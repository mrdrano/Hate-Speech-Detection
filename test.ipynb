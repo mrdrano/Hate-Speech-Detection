{
 "cells": [
  {
   "cell_type": "code",
   "execution_count": 3,
   "id": "3cdceab1",
   "metadata": {},
   "outputs": [],
   "source": [
    "import numpy as np \n",
    "import pandas as pd \n",
    "import torch\n",
    "from string import punctuation\n",
    "from stop_words import get_stop_words\n",
    "import re\n",
    "import torch\n",
    "import torch.nn as nn\n",
    "import torch.nn.functional as F\n",
    "from torch.utils.data import DataLoader, Dataset\n",
    "from sklearn.model_selection import train_test_split\n",
    "from nltk import WordNetLemmatizer\n",
    "import matplotlib.pyplot as plt"
   ]
  },
  {
   "cell_type": "code",
   "execution_count": 7,
   "id": "6e5038af",
   "metadata": {},
   "outputs": [],
   "source": [
    "from pymorphy2 import MorphAnalyzer\n",
    "\n",
    "# variables\n",
    "max_words = 3000\n",
    "max_len = 20\n",
    "num_classes = 1\n",
    "\n",
    "# Training\n",
    "epochs = 32\n",
    "batch_size = 128\n",
    "print_batch_n = 100"
   ]
  },
  {
   "cell_type": "code",
   "execution_count": 8,
   "id": "6c9b1f01",
   "metadata": {},
   "outputs": [
    {
     "data": {
      "text/html": [
       "<div>\n",
       "<style scoped>\n",
       "    .dataframe tbody tr th:only-of-type {\n",
       "        vertical-align: middle;\n",
       "    }\n",
       "\n",
       "    .dataframe tbody tr th {\n",
       "        vertical-align: top;\n",
       "    }\n",
       "\n",
       "    .dataframe thead th {\n",
       "        text-align: right;\n",
       "    }\n",
       "</style>\n",
       "<table border=\"1\" class=\"dataframe\">\n",
       "  <thead>\n",
       "    <tr style=\"text-align: right;\">\n",
       "      <th></th>\n",
       "      <th>class</th>\n",
       "      <th>tweet</th>\n",
       "    </tr>\n",
       "  </thead>\n",
       "  <tbody>\n",
       "    <tr>\n",
       "      <th>0</th>\n",
       "      <td>1</td>\n",
       "      <td>[9-1-13] 2:50 pm \"son of a bitch ate my mac n ...</td>\n",
       "    </tr>\n",
       "    <tr>\n",
       "      <th>1</th>\n",
       "      <td>1</td>\n",
       "      <td>RT @BryceSerna: Don't be a pussy grab the boot...</td>\n",
       "    </tr>\n",
       "    <tr>\n",
       "      <th>2</th>\n",
       "      <td>2</td>\n",
       "      <td>RT @ClicquotSuave: bunch of rappers boutta flo...</td>\n",
       "    </tr>\n",
       "    <tr>\n",
       "      <th>3</th>\n",
       "      <td>2</td>\n",
       "      <td>@michigannews13 wow. Thats great language comi...</td>\n",
       "    </tr>\n",
       "    <tr>\n",
       "      <th>4</th>\n",
       "      <td>1</td>\n",
       "      <td>and this is why I'm single, I don't fuck with ...</td>\n",
       "    </tr>\n",
       "  </tbody>\n",
       "</table>\n",
       "</div>"
      ],
      "text/plain": [
       "   class                                              tweet\n",
       "0      1  [9-1-13] 2:50 pm \"son of a bitch ate my mac n ...\n",
       "1      1  RT @BryceSerna: Don't be a pussy grab the boot...\n",
       "2      2  RT @ClicquotSuave: bunch of rappers boutta flo...\n",
       "3      2  @michigannews13 wow. Thats great language comi...\n",
       "4      1  and this is why I'm single, I don't fuck with ..."
      ]
     },
     "execution_count": 8,
     "metadata": {},
     "output_type": "execute_result"
    }
   ],
   "source": [
    "train_df = pd.read_csv('train.csv')\n",
    "test_df = pd.read_csv('test.csv')\n",
    "\n",
    "train_df.head()"
   ]
  },
  {
   "cell_type": "code",
   "execution_count": 9,
   "id": "3a1a26eb",
   "metadata": {},
   "outputs": [
    {
     "data": {
      "text/plain": [
       "1    11491\n",
       "2     2515\n",
       "0      863\n",
       "Name: class, dtype: int64"
      ]
     },
     "execution_count": 9,
     "metadata": {},
     "output_type": "execute_result"
    }
   ],
   "source": [
    "train_df['class'].value_counts()\n",
    "\n",
    "# 0: Hateful\n",
    "# 1: Offensive\n",
    "# 2: Clean"
   ]
  },
  {
   "cell_type": "code",
   "execution_count": 10,
   "id": "d88677e9",
   "metadata": {},
   "outputs": [],
   "source": [
    "sw = set(get_stop_words(\"en\"))\n",
    "sw.add('user')\n",
    "puncts = set(punctuation)"
   ]
  },
  {
   "cell_type": "code",
   "execution_count": 11,
   "id": "a64cfdcc",
   "metadata": {},
   "outputs": [
    {
     "data": {
      "text/plain": [
       "array(['[9-1-13] 2:50 pm \"son of a bitch ate my mac n cheese\" http://t.co/My5oJYZ8w9'],\n",
       "      dtype=object)"
      ]
     },
     "execution_count": 11,
     "metadata": {},
     "output_type": "execute_result"
    }
   ],
   "source": [
    "morpher = MorphAnalyzer()\n",
    "lemmatizer = WordNetLemmatizer()\n",
    "\n",
    "def preprocess_text(txt):\n",
    "    txt = str(txt)\n",
    "    txt = \"\".join(c for c in txt if c not in puncts)\n",
    "    txt = txt.lower()\n",
    "    txt = re.sub(\"not\\s\", \"no\", txt)\n",
    "#   txt = [morpher.parse(word)[0].normal_form for word in txt.split() if word not in sw]\n",
    "    txt = [lemmatizer.lemmatize(word) for word in txt.split() if word not in sw]\n",
    "    return \" \".join(txt)\n",
    "\n",
    "train_df['tweet'].iloc[:1].values"
   ]
  },
  {
   "cell_type": "code",
   "execution_count": 12,
   "id": "26dc7536",
   "metadata": {},
   "outputs": [
    {
     "data": {
      "text/plain": [
       "array(['9113 250 pm son bitch ate mac n cheese httptcomy5ojyz8w9'],\n",
       "      dtype=object)"
      ]
     },
     "execution_count": 12,
     "metadata": {},
     "output_type": "execute_result"
    }
   ],
   "source": [
    "train_df['tweet'].iloc[:1].apply(preprocess_text).values"
   ]
  },
  {
   "cell_type": "code",
   "execution_count": 13,
   "id": "3b8729b9",
   "metadata": {},
   "outputs": [
    {
     "name": "stderr",
     "output_type": "stream",
     "text": [
      "100%|██████████| 14869/14869 [00:00<00:00, 21551.74it/s]\n",
      "100%|██████████| 9914/9914 [00:00<00:00, 21516.35it/s]\n"
     ]
    }
   ],
   "source": [
    "from tqdm import tqdm \n",
    "tqdm.pandas()\n",
    "\n",
    "train_df['tweet'] = train_df['tweet'].progress_apply(preprocess_text)\n",
    "test_df['tweet'] = test_df['tweet'].progress_apply(preprocess_text)"
   ]
  },
  {
   "cell_type": "code",
   "execution_count": 14,
   "id": "74cc46f1",
   "metadata": {},
   "outputs": [],
   "source": [
    "train_corpus = \" \".join(train_df[\"tweet\"])\n",
    "train_corpus = train_corpus.lower()"
   ]
  },
  {
   "cell_type": "code",
   "execution_count": 15,
   "id": "10d8547b",
   "metadata": {},
   "outputs": [
    {
     "name": "stderr",
     "output_type": "stream",
     "text": [
      "[nltk_data] Downloading package punkt to\n",
      "[nltk_data]     C:\\Users\\user\\AppData\\Roaming\\nltk_data...\n",
      "[nltk_data]   Unzipping tokenizers\\punkt.zip.\n"
     ]
    },
    {
     "data": {
      "text/plain": [
       "['9113', '250', 'pm', 'son', 'bitch']"
      ]
     },
     "execution_count": 15,
     "metadata": {},
     "output_type": "execute_result"
    }
   ],
   "source": [
    "import nltk\n",
    "from nltk.tokenize import word_tokenize\n",
    "nltk.download(\"punkt\")\n",
    "\n",
    "tokens = word_tokenize(train_corpus)\n",
    "tokens[:5]"
   ]
  },
  {
   "cell_type": "code",
   "execution_count": 16,
   "id": "67854a54",
   "metadata": {},
   "outputs": [],
   "source": [
    "tokens_filtered = [word for word in tokens if word.isalnum()]"
   ]
  },
  {
   "cell_type": "code",
   "execution_count": 17,
   "id": "1b955304",
   "metadata": {},
   "outputs": [
    {
     "data": {
      "text/plain": [
       "2999"
      ]
     },
     "execution_count": 17,
     "metadata": {},
     "output_type": "execute_result"
    }
   ],
   "source": [
    "from nltk.probability import FreqDist\n",
    "\n",
    "dist = FreqDist(tokens_filtered)\n",
    "tokens_filtered_top = [pair[0] for pair in dist.most_common(max_words-1)]  # вычитание 1 для padding\n",
    "len(tokens_filtered_top)"
   ]
  },
  {
   "cell_type": "code",
   "execution_count": 18,
   "id": "9b2bd4ac",
   "metadata": {},
   "outputs": [
    {
     "data": {
      "text/plain": [
       "['bitch', 'rt', 'hoe', 'like', 'pussy', 'nigga', 'im', 'dont', 'got', 'as']"
      ]
     },
     "execution_count": 18,
     "metadata": {},
     "output_type": "execute_result"
    }
   ],
   "source": [
    "tokens_filtered_top[:10]"
   ]
  },
  {
   "cell_type": "code",
   "execution_count": 19,
   "id": "d9a7f867",
   "metadata": {},
   "outputs": [
    {
     "data": {
      "text/plain": [
       "2999"
      ]
     },
     "execution_count": 19,
     "metadata": {},
     "output_type": "execute_result"
    }
   ],
   "source": [
    "vocabulary = {v: k for k, v in dict(enumerate(tokens_filtered_top, 1)).items()}\n",
    "len(vocabulary)"
   ]
  },
  {
   "cell_type": "code",
   "execution_count": 20,
   "id": "13894926",
   "metadata": {},
   "outputs": [],
   "source": [
    "def text_to_sequence(text, maxlen):\n",
    "    result = []\n",
    "    tokens = word_tokenize(text.lower())\n",
    "    tokens_filtered = [word for word in tokens if word.isalnum()]\n",
    "    for word in tokens_filtered:\n",
    "        if word in vocabulary:\n",
    "            result.append(vocabulary[word])\n",
    "\n",
    "    padding = [0] * (maxlen-len(result))\n",
    "    return result[-maxlen:] + padding"
   ]
  },
  {
   "cell_type": "code",
   "execution_count": 21,
   "id": "d275874c",
   "metadata": {},
   "outputs": [
    {
     "name": "stdout",
     "output_type": "stream",
     "text": [
      "Wall time: 2.24 s\n"
     ]
    }
   ],
   "source": [
    "%%time\n",
    "x_train = np.asarray([text_to_sequence(text, max_len) for text in train_df[\"tweet\"]])\n",
    "x_val = np.asarray([text_to_sequence(text, max_len) for text in test_df[\"tweet\"]])"
   ]
  },
  {
   "cell_type": "code",
   "execution_count": 22,
   "id": "9b58b94a",
   "metadata": {},
   "outputs": [
    {
     "data": {
      "text/plain": [
       "(14869, 20)"
      ]
     },
     "execution_count": 22,
     "metadata": {},
     "output_type": "execute_result"
    }
   ],
   "source": [
    "x_train.shape"
   ]
  },
  {
   "cell_type": "code",
   "execution_count": 23,
   "id": "e47c7fe5",
   "metadata": {},
   "outputs": [
    {
     "data": {
      "text/plain": [
       "array([ 280,    1,  543, 1991,  111,  884,    0,    0,    0,    0,    0,\n",
       "          0,    0,    0,    0,    0,    0,    0,    0,    0])"
      ]
     },
     "execution_count": 23,
     "metadata": {},
     "output_type": "execute_result"
    }
   ],
   "source": [
    "x_train[0]"
   ]
  },
  {
   "cell_type": "code",
   "execution_count": 24,
   "id": "dae9c0fc",
   "metadata": {},
   "outputs": [
    {
     "data": {
      "text/plain": [
       "'9113 250 pm son bitch ate mac n cheese httptcomy5ojyz8w9'"
      ]
     },
     "execution_count": 24,
     "metadata": {},
     "output_type": "execute_result"
    }
   ],
   "source": [
    "train_df['tweet'][0]"
   ]
  },
  {
   "cell_type": "code",
   "execution_count": 25,
   "id": "9e93bc41",
   "metadata": {},
   "outputs": [
    {
     "data": {
      "text/plain": [
       "1"
      ]
     },
     "execution_count": 25,
     "metadata": {},
     "output_type": "execute_result"
    }
   ],
   "source": [
    "train_df['class'][0]"
   ]
  },
  {
   "cell_type": "code",
   "execution_count": 26,
   "id": "eca19981",
   "metadata": {},
   "outputs": [],
   "source": [
    "def weighted_binary_cross_entropy(output, target, weights=(0.075, 1)):\n",
    "        \n",
    "    if weights is not None:\n",
    "        assert len(weights) == 2\n",
    "        \n",
    "        loss = weights[1] * (target * torch.log(output)) + \\\n",
    "               weights[0] * ((1 - target) * torch.log(1 - output + np.finfo(float).eps))\n",
    "    else:\n",
    "        loss = target * torch.log(output) + (1 - target) * torch.log(1 - output)\n",
    "\n",
    "    return torch.neg(torch.mean(loss))"
   ]
  },
  {
   "cell_type": "code",
   "execution_count": 45,
   "id": "dadc25ff",
   "metadata": {},
   "outputs": [],
   "source": [
    "def my_train(model, th=0.5):\n",
    "    device = torch.device(\"cuda\" if torch.cuda.is_available() else \"cpu\")\n",
    "    model = model.to(device)\n",
    "    model.train()\n",
    "    th = 0.5\n",
    "\n",
    "    train_loss_history = []\n",
    "    test_loss_history = []\n",
    "\n",
    "\n",
    "    for epoch in range(epochs):  \n",
    "        running_items, running_right,  train_target_true, train_target_pred = 0.0, 0.0, 0.0, 0.0\n",
    "        for i, data in enumerate(train_loader, 0):\n",
    "            inputs, labels = data[0].to(device), data[1].to(device)\n",
    "\n",
    "            # обнуляем градиент\n",
    "            optimizer.zero_grad()\n",
    "            outputs = model(inputs)\n",
    "\n",
    "            loss = weighted_binary_cross_entropy(outputs, labels.float().view(-1, 1), (0.075, 1))\n",
    "            loss.backward()\n",
    "            optimizer.step()\n",
    "\n",
    "            # подсчет ошибки на обучении\n",
    "            loss = loss.item()\n",
    "            running_items += len(labels)\n",
    "            # подсчет метрики на обучении\n",
    "            pred_labels = torch.squeeze((outputs > th).int())\n",
    "            running_right += (labels == pred_labels).sum()\n",
    "            \n",
    "            train_target_true += torch.sum(labels == 1).float()\n",
    "            train_target_pred += ((labels == 1) & (pred_labels==1)).sum()\n",
    "\n",
    "        # выводим статистику о процессе обучения\n",
    "        model.eval()\n",
    "\n",
    "        print(f'Epoch [{epoch + 1}/{epochs}]. ' \\\n",
    "                f'Step [{i + 1}/{len(train_loader)}]. ' \\\n",
    "                f'Loss: {loss:.3f}. ' \\\n",
    "                f'Recall: {train_target_pred/train_target_true:.3f}. ' \\\n",
    "                f'Acc: {running_right / running_items:.3f}', end='. ')\n",
    "        running_loss, running_items, running_right = 0.0, 0.0, 0.0\n",
    "        train_loss_history.append(loss)\n",
    "\n",
    "            # выводим статистику на тестовых данных\n",
    "        test_running_right, test_running_total, test_loss,  = 0.0, 0.0, 0.0, \n",
    "        target_true, target_pred, train_target_true, train_target_pred = 0.0, 0.0, 0.0, 0.0\n",
    "        for j, data in enumerate(val_loader):\n",
    "\n",
    "            test_labels = data[1].to(device)\n",
    "            test_outputs = model(data[0].to(device))\n",
    "\n",
    "            target_true += torch.sum(test_labels == 1).float()\n",
    "\n",
    "\n",
    "            # подсчет ошибки на тесте\n",
    "            test_loss = weighted_binary_cross_entropy(test_outputs, test_labels.float().view(-1, 1), (0.075, 1))\n",
    "            # подсчет метрики на тесте\n",
    "            test_running_total += len(data[1])\n",
    "            pred_test_labels = torch.squeeze((test_outputs > th).int())\n",
    "            target_pred += ((test_labels==1) & (pred_test_labels==1)).sum()\n",
    "            test_running_right += (test_labels == pred_test_labels).sum()\n",
    "\n",
    "        test_loss_history.append(test_loss.item())\n",
    "        print(f'Test loss: {test_loss:.3f}. Test acc: {test_running_right / test_running_total:.3f}. Test recall {target_pred/target_true:.3f}')\n",
    "#         target_true, target_pred, test_running_right = 0.0, 0.0, 0.0\n",
    "        model.train()\n",
    "\n",
    "    print('Training is finished!')\n",
    "\n",
    "\n",
    "    plt.title('Loss history')\n",
    "    plt.grid(True)\n",
    "    plt.ylabel('Loss')\n",
    "    plt.xlabel('Epoch')\n",
    "    plt.plot(train_loss_history, label='train')\n",
    "    plt.plot(test_loss_history, label='test')\n",
    "    plt.legend();"
   ]
  },
  {
   "cell_type": "code",
   "execution_count": 28,
   "id": "c42b7701",
   "metadata": {},
   "outputs": [],
   "source": [
    "class Net(nn.Module):\n",
    "    def __init__(self, vocab_size=2000, embedding_dim=128, out_channel=128, num_classes=1):\n",
    "        super().__init__()\n",
    "        self.embedding = nn.Embedding(vocab_size, embedding_dim)\n",
    "        self.conv_1 = nn.Conv1d(embedding_dim, out_channel, kernel_size=2)\n",
    "        self.conv_2 = nn.Conv1d(embedding_dim, out_channel, kernel_size=3)\n",
    "        self.pool = nn.MaxPool1d(2)\n",
    "        self.relu = nn.ReLU()\n",
    "        self.linear_1 = nn.Linear(out_channel, out_channel // 2)\n",
    "        self.linear_2 = nn.Linear(out_channel // 2, num_classes)\n",
    "        \n",
    "    def forward(self, x):        \n",
    "        output = self.embedding(x) # B, L, E\n",
    "        #                       B  E  L         \n",
    "        output = output.permute(0, 2, 1)\n",
    "        output = self.conv_1(output)\n",
    "        output = self.relu(output)\n",
    "        output = self.pool(output)\n",
    "\n",
    "        output = self.conv_2(output)\n",
    "        output = self.relu(output)\n",
    "        output = self.pool(output)\n",
    "        output = torch.max(output, axis=2).values\n",
    "        output = self.linear_1(output)\n",
    "        output = self.relu(output)\n",
    "        output = self.linear_2(output)\n",
    "        output = F.sigmoid(output)\n",
    "        return output"
   ]
  },
  {
   "cell_type": "code",
   "execution_count": 29,
   "id": "1703ab4e",
   "metadata": {},
   "outputs": [],
   "source": [
    "class GRUFixedLen(nn.Module) :\n",
    "    def __init__(self, vocab_size, embedding_dim=128, hidden_dim=128, use_last=True):\n",
    "        super().__init__()\n",
    "        self.use_last = use_last\n",
    "        self.embeddings = nn.Embedding(vocab_size, embedding_dim, padding_idx=0)\n",
    "        self.gru = nn.GRU(embedding_dim, hidden_dim, num_layers=2, batch_first=True)\n",
    "        self.linear = nn.Linear(hidden_dim, 1)\n",
    "        self.dropout = nn.Dropout(0.2)\n",
    "        \n",
    "    def forward(self, x):\n",
    "        x = self.embeddings(x)\n",
    "        x = self.dropout(x)\n",
    "        gru_out, ht = self.gru(x)\n",
    "       \n",
    "        if self.use_last:\n",
    "            last_tensor = gru_out[:,-1,:]\n",
    "        else:\n",
    "            # use mean\n",
    "            last_tensor = torch.mean(gru_out[:,:], dim=1)\n",
    "    \n",
    "        out = self.linear(last_tensor)\n",
    "        return torch.sigmoid(out)"
   ]
  },
  {
   "cell_type": "code",
   "execution_count": 30,
   "id": "c4b467a2",
   "metadata": {},
   "outputs": [],
   "source": [
    "class LSTMFixedLen(nn.Module) :\n",
    "    def __init__(self, vocab_size, embedding_dim=128, hidden_dim=128, use_last=True):\n",
    "        super().__init__()\n",
    "        self.use_last = use_last\n",
    "        self.embeddings = nn.Embedding(vocab_size, embedding_dim, padding_idx=0)\n",
    "        self.lstm = nn.LSTM(embedding_dim, hidden_dim, num_layers=2, batch_first=True)\n",
    "        self.linear = nn.Linear(hidden_dim, 1)\n",
    "        self.dropout = nn.Dropout(0.2)\n",
    "        \n",
    "    def forward(self, x):\n",
    "        x = self.embeddings(x)\n",
    "        x = self.dropout(x)\n",
    "        lstm_out, ht = self.lstm(x)\n",
    "       \n",
    "        if self.use_last:\n",
    "            last_tensor = lstm_out[:,-1,:]\n",
    "        else:\n",
    "            # use mean\n",
    "            last_tensor = torch.mean(lstm_out[:,:], dim=1)\n",
    "    \n",
    "        out = self.linear(last_tensor)\n",
    "        # print(out.shape)\n",
    "        return torch.sigmoid(out)"
   ]
  },
  {
   "cell_type": "code",
   "execution_count": 31,
   "id": "cf6dcc25",
   "metadata": {},
   "outputs": [],
   "source": [
    "class DataWrapper(Dataset):\n",
    "    def __init__(self, data, target, transform=None):\n",
    "        self.data = torch.from_numpy(data).long()\n",
    "        self.target = torch.from_numpy(target).long()\n",
    "        self.transform = transform\n",
    "        \n",
    "    def __getitem__(self, index):\n",
    "        x = self.data[index]\n",
    "        y = self.target[index]\n",
    "        \n",
    "        if self.transform:\n",
    "            x = self.transform(x)\n",
    "            \n",
    "        return x, y\n",
    "    \n",
    "    def __len__(self):\n",
    "        return len(self.data)"
   ]
  },
  {
   "cell_type": "code",
   "execution_count": 33,
   "id": "a56e61e7",
   "metadata": {},
   "outputs": [],
   "source": [
    "X_train, X_test, Y_train, Y_test = train_test_split(x_train, train_df['class'], train_size=0.75, random_state=3)\n",
    "\n",
    "\n",
    "train_dataset = DataWrapper(X_train, Y_train.values)\n",
    "train_loader = DataLoader(train_dataset, batch_size=batch_size, shuffle=True)\n",
    "\n",
    "\n",
    "\n",
    "\n",
    "val_dataset = DataWrapper(X_test, Y_test.values)\n",
    "val_loader = DataLoader(val_dataset, batch_size=batch_size, shuffle=True)"
   ]
  },
  {
   "cell_type": "code",
   "execution_count": 34,
   "id": "2f4ebfc0",
   "metadata": {},
   "outputs": [
    {
     "data": {
      "text/plain": [
       "1    0.773563\n",
       "2    0.168595\n",
       "0    0.057842\n",
       "Name: class, dtype: float64"
      ]
     },
     "execution_count": 34,
     "metadata": {},
     "output_type": "execute_result"
    }
   ],
   "source": [
    "Y_train.value_counts(normalize=True)"
   ]
  },
  {
   "cell_type": "code",
   "execution_count": 35,
   "id": "082c4a29",
   "metadata": {},
   "outputs": [
    {
     "data": {
      "text/plain": [
       "1    0.770576\n",
       "2    0.170791\n",
       "0    0.058634\n",
       "Name: class, dtype: float64"
      ]
     },
     "execution_count": 35,
     "metadata": {},
     "output_type": "execute_result"
    }
   ],
   "source": [
    "Y_test.value_counts(normalize=True)"
   ]
  },
  {
   "cell_type": "code",
   "execution_count": 36,
   "id": "9cb0527d",
   "metadata": {},
   "outputs": [
    {
     "name": "stdout",
     "output_type": "stream",
     "text": [
      "torch.Size([128, 20])\n",
      "torch.Size([128])\n",
      "tensor(1)\n"
     ]
    }
   ],
   "source": [
    "for x, l in train_loader:\n",
    "    print(x.shape)\n",
    "    print(l.shape)\n",
    "    print(l[0])\n",
    "    break"
   ]
  },
  {
   "cell_type": "code",
   "execution_count": 38,
   "id": "cc26955f",
   "metadata": {},
   "outputs": [],
   "source": [
    "gru_model = GRUFixedLen(vocab_size=max_words)"
   ]
  },
  {
   "cell_type": "code",
   "execution_count": 39,
   "id": "b4b5b5da",
   "metadata": {},
   "outputs": [],
   "source": [
    "lstm_model = LSTMFixedLen(vocab_size=max_words)"
   ]
  },
  {
   "cell_type": "code",
   "execution_count": 41,
   "id": "b8b81d95",
   "metadata": {},
   "outputs": [],
   "source": [
    "optimizer = torch.optim.Adam(gru_model.parameters(), lr=0.0001)"
   ]
  },
  {
   "cell_type": "code",
   "execution_count": 46,
   "id": "19f9f4f0",
   "metadata": {},
   "outputs": [
    {
     "name": "stdout",
     "output_type": "stream",
     "text": [
      "Epoch [1/32]. Step [88/88]. Loss: 0.029. Recall: 1.000. Acc: 0.774. Test loss: -0.018. Test acc: 0.770. Test recall 1.000\n",
      "Epoch [2/32]. Step [88/88]. Loss: -0.189. Recall: 1.000. Acc: 0.774. Test loss: -0.078. Test acc: 0.770. Test recall 1.000\n",
      "Epoch [3/32]. Step [88/88]. Loss: -0.070. Recall: 1.000. Acc: 0.774. Test loss: -0.087. Test acc: 0.770. Test recall 1.000\n",
      "Epoch [4/32]. Step [88/88]. Loss: -0.038. Recall: 1.000. Acc: 0.774. Test loss: 0.096. Test acc: 0.770. Test recall 1.000\n",
      "Epoch [5/32]. Step [88/88]. Loss: -0.123. Recall: 1.000. Acc: 0.774. Test loss: 0.103. Test acc: 0.770. Test recall 1.000\n",
      "Epoch [6/32]. Step [88/88]. Loss: -0.132. Recall: 1.000. Acc: 0.774. Test loss: 0.000. Test acc: 0.770. Test recall 1.000\n",
      "Epoch [7/32]. Step [88/88]. Loss: -0.047. Recall: 1.000. Acc: 0.774. Test loss: 0.000. Test acc: 0.770. Test recall 1.000\n",
      "Epoch [8/32]. Step [88/88]. Loss: -0.101. Recall: 1.000. Acc: 0.774. Test loss: -0.126. Test acc: 0.770. Test recall 1.000\n",
      "Epoch [9/32]. Step [88/88]. Loss: -0.108. Recall: 1.000. Acc: 0.774. Test loss: 0.135. Test acc: 0.770. Test recall 1.000\n",
      "Epoch [10/32]. Step [88/88]. Loss: -0.172. Recall: 1.000. Acc: 0.774. Test loss: 0.287. Test acc: 0.770. Test recall 1.000\n",
      "Epoch [11/32]. Step [88/88]. Loss: 0.000. Recall: 1.000. Acc: 0.774. Test loss: 0.000. Test acc: 0.770. Test recall 1.000\n",
      "Epoch [12/32]. Step [88/88]. Loss: 0.129. Recall: 1.000. Acc: 0.774. Test loss: -0.162. Test acc: 0.770. Test recall 1.000\n",
      "Epoch [13/32]. Step [88/88]. Loss: -0.136. Recall: 1.000. Acc: 0.773. Test loss: 0.172. Test acc: 0.770. Test recall 0.999\n",
      "Epoch [14/32]. Step [88/88]. Loss: -0.218. Recall: 0.999. Acc: 0.774. Test loss: 0.000. Test acc: 0.770. Test recall 0.999\n",
      "Epoch [15/32]. Step [88/88]. Loss: -0.083. Recall: 1.000. Acc: 0.774. Test loss: -0.191. Test acc: 0.769. Test recall 0.997\n",
      "Epoch [16/32]. Step [88/88]. Loss: 0.080. Recall: 0.999. Acc: 0.774. Test loss: -0.399. Test acc: 0.769. Test recall 0.997\n",
      "Epoch [17/32]. Step [88/88]. Loss: -0.180. Recall: 0.999. Acc: 0.774. Test loss: -0.309. Test acc: 0.769. Test recall 0.997\n",
      "Epoch [18/32]. Step [88/88]. Loss: -0.311. Recall: 1.000. Acc: 0.775. Test loss: -0.279. Test acc: 0.771. Test recall 0.999\n",
      "Epoch [19/32]. Step [88/88]. Loss: 0.182. Recall: 1.000. Acc: 0.775. Test loss: -0.437. Test acc: 0.769. Test recall 0.996\n",
      "Epoch [20/32]. Step [88/88]. Loss: -0.180. Recall: 1.000. Acc: 0.776. Test loss: -0.000. Test acc: 0.771. Test recall 0.998\n",
      "Epoch [21/32]. Step [88/88]. Loss: -0.359. Recall: 1.000. Acc: 0.776. Test loss: 0.000. Test acc: 0.770. Test recall 0.997\n",
      "Epoch [22/32]. Step [88/88]. Loss: -0.708. Recall: 1.000. Acc: 0.776. Test loss: -0.900. Test acc: 0.771. Test recall 0.999\n",
      "Epoch [23/32]. Step [88/88]. Loss: -0.202. Recall: 1.000. Acc: 0.775. Test loss: 0.079. Test acc: 0.771. Test recall 0.999\n",
      "Epoch [24/32]. Step [88/88]. Loss: -0.540. Recall: 1.000. Acc: 0.775. Test loss: -0.649. Test acc: 0.770. Test recall 0.999\n",
      "Epoch [25/32]. Step [88/88]. Loss: -0.600. Recall: 1.000. Acc: 0.774. Test loss: -0.251. Test acc: 0.770. Test recall 0.999\n",
      "Epoch [26/32]. Step [88/88]. Loss: -0.532. Recall: 1.000. Acc: 0.774. Test loss: -0.901. Test acc: 0.770. Test recall 0.999\n",
      "Epoch [27/32]. Step [88/88]. Loss: -0.177. Recall: 1.000. Acc: 0.774. Test loss: -0.650. Test acc: 0.770. Test recall 1.000\n",
      "Epoch [28/32]. Step [88/88]. Loss: -0.354. Recall: 1.000. Acc: 0.774. Test loss: -1.350. Test acc: 0.770. Test recall 0.999\n",
      "Epoch [29/32]. Step [88/88]. Loss: -0.529. Recall: 1.000. Acc: 0.774. Test loss: -0.899. Test acc: 0.770. Test recall 0.999\n",
      "Epoch [30/32]. Step [88/88]. Loss: -0.180. Recall: 1.000. Acc: 0.774. Test loss: 0.003. Test acc: 0.770. Test recall 0.999\n",
      "Epoch [31/32]. Step [88/88]. Loss: -0.540. Recall: 1.000. Acc: 0.774. Test loss: -0.450. Test acc: 0.770. Test recall 0.999\n",
      "Epoch [32/32]. Step [88/88]. Loss: -1.081. Recall: 1.000. Acc: 0.774. Test loss: -0.421. Test acc: 0.770. Test recall 0.999\n",
      "Training is finished!\n"
     ]
    },
    {
     "data": {
      "image/png": "[encoded data removed]",
      "text/plain": [
       "<Figure size 640x480 with 1 Axes>"
      ]
     },
     "metadata": {},
     "output_type": "display_data"
    }
   ],
   "source": [
    "my_train(gru_model)"
   ]
  },
  {
   "cell_type": "code",
   "execution_count": 47,
   "id": "f9ea6a37",
   "metadata": {},
   "outputs": [
    {
     "name": "stdout",
     "output_type": "stream",
     "text": [
      "Epoch [1/32]. Step [88/88]. Loss: 0.048. Recall: 0.804. Acc: 0.633. Test loss: -0.034. Test acc: 0.771. Test recall 1.000\n",
      "Epoch [2/32]. Step [88/88]. Loss: -0.028. Recall: 1.000. Acc: 0.774. Test loss: -0.223. Test acc: 0.771. Test recall 1.000\n",
      "Epoch [3/32]. Step [88/88]. Loss: -0.137. Recall: 1.000. Acc: 0.774. Test loss: 0.001. Test acc: 0.771. Test recall 1.000\n",
      "Epoch [4/32]. Step [88/88]. Loss: -0.150. Recall: 1.000. Acc: 0.774. Test loss: -0.283. Test acc: 0.771. Test recall 1.000\n",
      "Epoch [5/32]. Step [88/88]. Loss: 0.041. Recall: 1.000. Acc: 0.774. Test loss: 0.103. Test acc: 0.771. Test recall 1.000\n",
      "Epoch [6/32]. Step [88/88]. Loss: 0.000. Recall: 1.000. Acc: 0.774. Test loss: -0.331. Test acc: 0.771. Test recall 1.000\n",
      "Epoch [7/32]. Step [88/88]. Loss: -0.095. Recall: 1.000. Acc: 0.774. Test loss: -0.119. Test acc: 0.771. Test recall 1.000\n",
      "Epoch [8/32]. Step [88/88]. Loss: -0.153. Recall: 1.000. Acc: 0.774. Test loss: -0.128. Test acc: 0.771. Test recall 1.000\n",
      "Epoch [9/32]. Step [88/88]. Loss: -0.109. Recall: 1.000. Acc: 0.774. Test loss: -0.137. Test acc: 0.771. Test recall 1.000\n",
      "Epoch [10/32]. Step [88/88]. Loss: -0.058. Recall: 1.000. Acc: 0.774. Test loss: -0.146. Test acc: 0.771. Test recall 1.000\n",
      "Epoch [11/32]. Step [88/88]. Loss: 0.062. Recall: 1.000. Acc: 0.774. Test loss: -0.155. Test acc: 0.771. Test recall 1.000\n",
      "Epoch [12/32]. Step [88/88]. Loss: -0.198. Recall: 1.000. Acc: 0.774. Test loss: 0.165. Test acc: 0.771. Test recall 1.000\n",
      "Epoch [13/32]. Step [88/88]. Loss: -0.140. Recall: 1.000. Acc: 0.774. Test loss: -0.175. Test acc: 0.771. Test recall 1.000\n",
      "Epoch [14/32]. Step [88/88]. Loss: -0.074. Recall: 1.000. Acc: 0.774. Test loss: 0.186. Test acc: 0.771. Test recall 1.000\n",
      "Epoch [15/32]. Step [88/88]. Loss: -0.076. Recall: 1.000. Acc: 0.774. Test loss: 0.000. Test acc: 0.771. Test recall 1.000\n",
      "Epoch [16/32]. Step [88/88]. Loss: 0.080. Recall: 1.000. Acc: 0.774. Test loss: 0.000. Test acc: 0.771. Test recall 1.000\n",
      "Epoch [17/32]. Step [88/88]. Loss: -1.081. Recall: 1.000. Acc: 0.774. Test loss: -0.000. Test acc: 0.771. Test recall 1.000\n",
      "Epoch [18/32]. Step [88/88]. Loss: 0.360. Recall: 1.000. Acc: 0.774. Test loss: -0.901. Test acc: 0.771. Test recall 1.000\n",
      "Epoch [19/32]. Step [88/88]. Loss: -0.000. Recall: 1.000. Acc: 0.774. Test loss: -0.901. Test acc: 0.771. Test recall 1.000\n",
      "Epoch [20/32]. Step [88/88]. Loss: -0.721. Recall: 1.000. Acc: 0.774. Test loss: -0.000. Test acc: 0.771. Test recall 1.000\n",
      "Epoch [21/32]. Step [88/88]. Loss: -0.360. Recall: 1.000. Acc: 0.774. Test loss: -0.901. Test acc: 0.771. Test recall 1.000\n",
      "Epoch [22/32]. Step [88/88]. Loss: -0.180. Recall: 1.000. Acc: 0.774. Test loss: -0.000. Test acc: 0.771. Test recall 1.000\n",
      "Epoch [23/32]. Step [88/88]. Loss: -0.541. Recall: 1.000. Acc: 0.774. Test loss: -1.352. Test acc: 0.771. Test recall 1.000\n",
      "Epoch [24/32]. Step [88/88]. Loss: -0.000. Recall: 1.000. Acc: 0.774. Test loss: -0.451. Test acc: 0.771. Test recall 1.000\n",
      "Epoch [25/32]. Step [88/88]. Loss: -0.360. Recall: 1.000. Acc: 0.774. Test loss: -0.450. Test acc: 0.771. Test recall 1.000\n",
      "Epoch [26/32]. Step [88/88]. Loss: 0.180. Recall: 1.000. Acc: 0.774. Test loss: -0.451. Test acc: 0.771. Test recall 1.000\n",
      "Epoch [27/32]. Step [88/88]. Loss: 0.180. Recall: 1.000. Acc: 0.774. Test loss: -0.451. Test acc: 0.771. Test recall 1.000\n",
      "Epoch [28/32]. Step [88/88]. Loss: -0.901. Recall: 1.000. Acc: 0.774. Test loss: -0.000. Test acc: 0.771. Test recall 1.000\n",
      "Epoch [29/32]. Step [88/88]. Loss: -0.180. Recall: 1.000. Acc: 0.774. Test loss: -0.451. Test acc: 0.771. Test recall 1.000\n",
      "Epoch [30/32]. Step [88/88]. Loss: -0.180. Recall: 1.000. Acc: 0.774. Test loss: -0.000. Test acc: 0.771. Test recall 1.000\n",
      "Epoch [31/32]. Step [88/88]. Loss: -0.440. Recall: 1.000. Acc: 0.774. Test loss: -0.000. Test acc: 0.771. Test recall 1.000\n",
      "Epoch [32/32]. Step [88/88]. Loss: -0.000. Recall: 1.000. Acc: 0.774. Test loss: 0.390. Test acc: 0.770. Test recall 1.000\n",
      "Training is finished!\n"
     ]
    },
    {
     "data": {
      "image/png": "[encoded data removed]",
      "text/plain": [
       "<Figure size 640x480 with 1 Axes>"
      ]
     },
     "metadata": {},
     "output_type": "display_data"
    }
   ],
   "source": [
    "optimizer = torch.optim.Adam(lstm_model.parameters(), lr=0.0001)\n",
    "my_train(lstm_model)"
   ]
  },
  {
   "cell_type": "code",
   "execution_count": 52,
   "id": "a0e20ae5",
   "metadata": {},
   "outputs": [
    {
     "name": "stdout",
     "output_type": "stream",
     "text": [
      "Score of accuracy for the training data:  0.7732938749887902\n",
      "Accuracy score for the test data :  0.7705755782678859\n"
     ]
    },
    {
     "name": "stderr",
     "output_type": "stream",
     "text": [
      "C:\\Users\\user\\anaconda3\\lib\\site-packages\\sklearn\\linear_model\\_logistic.py:444: ConvergenceWarning: lbfgs failed to converge (status=1):\n",
      "STOP: TOTAL NO. of ITERATIONS REACHED LIMIT.\n",
      "\n",
      "Increase the number of iterations (max_iter) or scale the data as shown in:\n",
      "    https://scikit-learn.org/stable/modules/preprocessing.html\n",
      "Please also refer to the documentation for alternative solver options:\n",
      "    https://scikit-learn.org/stable/modules/linear_model.html#logistic-regression\n",
      "  n_iter_i = _check_optimize_result(\n"
     ]
    }
   ],
   "source": [
    "from sklearn.linear_model import LogisticRegression \n",
    "from sklearn.metrics import accuracy_score\n",
    "ACCtrain=[]\n",
    "ACCtest=[]\n",
    "\n",
    "LogiRE = LogisticRegression()\n",
    "LogiRE.fit(X_train, Y_train)\n",
    "predTrain =LogiRE.predict(X_train)\n",
    "accuracyTrain = accuracy_score(predTrain, Y_train)\n",
    "print('Score of accuracy for the training data: ', accuracyTrain)\n",
    "\n",
    "predTest = LogiRE.predict(X_test)\n",
    "accuracyTest = accuracy_score(predTest, Y_test)\n",
    "print('Accuracy score for the test data : ', accuracyTest)\n",
    "ACCtrain.append(round(accuracyTrain, 3))\n",
    "ACCtest.append(round(accuracyTest, 3))"
   ]
  },
  {
   "cell_type": "code",
   "execution_count": 55,
   "id": "dc938d70",
   "metadata": {},
   "outputs": [
    {
     "name": "stdout",
     "output_type": "stream",
     "text": [
      "              precision    recall  f1-score   support\n",
      "\n",
      "           0       0.00      0.00      0.00       218\n",
      "           1       0.77      1.00      0.87      2865\n",
      "           2       0.00      0.00      0.00       635\n",
      "\n",
      "    accuracy                           0.77      3718\n",
      "   macro avg       0.26      0.33      0.29      3718\n",
      "weighted avg       0.59      0.77      0.67      3718\n",
      "\n"
     ]
    },
    {
     "name": "stderr",
     "output_type": "stream",
     "text": [
      "C:\\Users\\user\\anaconda3\\lib\\site-packages\\sklearn\\metrics\\_classification.py:1334: UndefinedMetricWarning: Precision and F-score are ill-defined and being set to 0.0 in labels with no predicted samples. Use `zero_division` parameter to control this behavior.\n",
      "  _warn_prf(average, modifier, msg_start, len(result))\n",
      "C:\\Users\\user\\anaconda3\\lib\\site-packages\\sklearn\\metrics\\_classification.py:1334: UndefinedMetricWarning: Precision and F-score are ill-defined and being set to 0.0 in labels with no predicted samples. Use `zero_division` parameter to control this behavior.\n",
      "  _warn_prf(average, modifier, msg_start, len(result))\n",
      "C:\\Users\\user\\anaconda3\\lib\\site-packages\\sklearn\\metrics\\_classification.py:1334: UndefinedMetricWarning: Precision and F-score are ill-defined and being set to 0.0 in labels with no predicted samples. Use `zero_division` parameter to control this behavior.\n",
      "  _warn_prf(average, modifier, msg_start, len(result))\n"
     ]
    }
   ],
   "source": [
    "from sklearn.metrics import classification_report\n",
    "print(classification_report(Y_test, predTest))\n"
   ]
  },
  {
   "cell_type": "code",
   "execution_count": 65,
   "id": "74c7ffe5",
   "metadata": {},
   "outputs": [
    {
     "ename": "ValueError",
     "evalue": "X has 28576 features, but LogisticRegression is expecting 20 features as input.",
     "output_type": "error",
     "traceback": [
      "\u001b[1;31m---------------------------------------------------------------------------\u001b[0m",
      "\u001b[1;31mValueError\u001b[0m                                Traceback (most recent call last)",
      "\u001b[1;32m~\\AppData\\Local\\Temp\\ipykernel_180624\\3821107653.py\u001b[0m in \u001b[0;36m<module>\u001b[1;34m\u001b[0m\n\u001b[1;32m----> 1\u001b[1;33m \u001b[0msubmission\u001b[0m \u001b[1;33m=\u001b[0m \u001b[0mpd\u001b[0m\u001b[1;33m.\u001b[0m\u001b[0mDataFrame\u001b[0m\u001b[1;33m(\u001b[0m\u001b[1;33m{\u001b[0m\u001b[1;34m'id'\u001b[0m\u001b[1;33m:\u001b[0m\u001b[0mtest_df\u001b[0m\u001b[1;33m[\u001b[0m\u001b[1;34m'id'\u001b[0m\u001b[1;33m]\u001b[0m\u001b[1;33m,\u001b[0m\u001b[1;34m'label'\u001b[0m\u001b[1;33m:\u001b[0m\u001b[0mLogiRE\u001b[0m\u001b[1;33m.\u001b[0m\u001b[0mpredict\u001b[0m\u001b[1;33m(\u001b[0m\u001b[0mX_train\u001b[0m\u001b[1;33m)\u001b[0m\u001b[1;33m}\u001b[0m\u001b[1;33m)\u001b[0m\u001b[1;33m\u001b[0m\u001b[1;33m\u001b[0m\u001b[0m\n\u001b[0m\u001b[0;32m      2\u001b[0m \u001b[0msubmission\u001b[0m\u001b[1;33m.\u001b[0m\u001b[0mto_csv\u001b[0m\u001b[1;33m(\u001b[0m\u001b[1;34m\"sample_upload.csv\"\u001b[0m\u001b[1;33m,\u001b[0m\u001b[0mindex\u001b[0m\u001b[1;33m=\u001b[0m\u001b[1;32mFalse\u001b[0m\u001b[1;33m)\u001b[0m\u001b[1;33m\u001b[0m\u001b[1;33m\u001b[0m\u001b[0m\n",
      "\u001b[1;32m~\\anaconda3\\lib\\site-packages\\sklearn\\linear_model\\_base.py\u001b[0m in \u001b[0;36mpredict\u001b[1;34m(self, X)\u001b[0m\n\u001b[0;32m    445\u001b[0m             \u001b[0mVector\u001b[0m \u001b[0mcontaining\u001b[0m \u001b[0mthe\u001b[0m \u001b[1;32mclass\u001b[0m \u001b[0mlabels\u001b[0m \u001b[1;32mfor\u001b[0m \u001b[0meach\u001b[0m \u001b[0msample\u001b[0m\u001b[1;33m.\u001b[0m\u001b[1;33m\u001b[0m\u001b[1;33m\u001b[0m\u001b[0m\n\u001b[0;32m    446\u001b[0m         \"\"\"\n\u001b[1;32m--> 447\u001b[1;33m         \u001b[0mscores\u001b[0m \u001b[1;33m=\u001b[0m \u001b[0mself\u001b[0m\u001b[1;33m.\u001b[0m\u001b[0mdecision_function\u001b[0m\u001b[1;33m(\u001b[0m\u001b[0mX\u001b[0m\u001b[1;33m)\u001b[0m\u001b[1;33m\u001b[0m\u001b[1;33m\u001b[0m\u001b[0m\n\u001b[0m\u001b[0;32m    448\u001b[0m         \u001b[1;32mif\u001b[0m \u001b[0mlen\u001b[0m\u001b[1;33m(\u001b[0m\u001b[0mscores\u001b[0m\u001b[1;33m.\u001b[0m\u001b[0mshape\u001b[0m\u001b[1;33m)\u001b[0m \u001b[1;33m==\u001b[0m \u001b[1;36m1\u001b[0m\u001b[1;33m:\u001b[0m\u001b[1;33m\u001b[0m\u001b[1;33m\u001b[0m\u001b[0m\n\u001b[0;32m    449\u001b[0m             \u001b[0mindices\u001b[0m \u001b[1;33m=\u001b[0m \u001b[1;33m(\u001b[0m\u001b[0mscores\u001b[0m \u001b[1;33m>\u001b[0m \u001b[1;36m0\u001b[0m\u001b[1;33m)\u001b[0m\u001b[1;33m.\u001b[0m\u001b[0mastype\u001b[0m\u001b[1;33m(\u001b[0m\u001b[0mint\u001b[0m\u001b[1;33m)\u001b[0m\u001b[1;33m\u001b[0m\u001b[1;33m\u001b[0m\u001b[0m\n",
      "\u001b[1;32m~\\anaconda3\\lib\\site-packages\\sklearn\\linear_model\\_base.py\u001b[0m in \u001b[0;36mdecision_function\u001b[1;34m(self, X)\u001b[0m\n\u001b[0;32m    427\u001b[0m         \u001b[0mcheck_is_fitted\u001b[0m\u001b[1;33m(\u001b[0m\u001b[0mself\u001b[0m\u001b[1;33m)\u001b[0m\u001b[1;33m\u001b[0m\u001b[1;33m\u001b[0m\u001b[0m\n\u001b[0;32m    428\u001b[0m \u001b[1;33m\u001b[0m\u001b[0m\n\u001b[1;32m--> 429\u001b[1;33m         \u001b[0mX\u001b[0m \u001b[1;33m=\u001b[0m \u001b[0mself\u001b[0m\u001b[1;33m.\u001b[0m\u001b[0m_validate_data\u001b[0m\u001b[1;33m(\u001b[0m\u001b[0mX\u001b[0m\u001b[1;33m,\u001b[0m \u001b[0maccept_sparse\u001b[0m\u001b[1;33m=\u001b[0m\u001b[1;34m\"csr\"\u001b[0m\u001b[1;33m,\u001b[0m \u001b[0mreset\u001b[0m\u001b[1;33m=\u001b[0m\u001b[1;32mFalse\u001b[0m\u001b[1;33m)\u001b[0m\u001b[1;33m\u001b[0m\u001b[1;33m\u001b[0m\u001b[0m\n\u001b[0m\u001b[0;32m    430\u001b[0m         \u001b[0mscores\u001b[0m \u001b[1;33m=\u001b[0m \u001b[0msafe_sparse_dot\u001b[0m\u001b[1;33m(\u001b[0m\u001b[0mX\u001b[0m\u001b[1;33m,\u001b[0m \u001b[0mself\u001b[0m\u001b[1;33m.\u001b[0m\u001b[0mcoef_\u001b[0m\u001b[1;33m.\u001b[0m\u001b[0mT\u001b[0m\u001b[1;33m,\u001b[0m \u001b[0mdense_output\u001b[0m\u001b[1;33m=\u001b[0m\u001b[1;32mTrue\u001b[0m\u001b[1;33m)\u001b[0m \u001b[1;33m+\u001b[0m \u001b[0mself\u001b[0m\u001b[1;33m.\u001b[0m\u001b[0mintercept_\u001b[0m\u001b[1;33m\u001b[0m\u001b[1;33m\u001b[0m\u001b[0m\n\u001b[0;32m    431\u001b[0m         \u001b[1;32mreturn\u001b[0m \u001b[0mscores\u001b[0m\u001b[1;33m.\u001b[0m\u001b[0mravel\u001b[0m\u001b[1;33m(\u001b[0m\u001b[1;33m)\u001b[0m \u001b[1;32mif\u001b[0m \u001b[0mscores\u001b[0m\u001b[1;33m.\u001b[0m\u001b[0mshape\u001b[0m\u001b[1;33m[\u001b[0m\u001b[1;36m1\u001b[0m\u001b[1;33m]\u001b[0m \u001b[1;33m==\u001b[0m \u001b[1;36m1\u001b[0m \u001b[1;32melse\u001b[0m \u001b[0mscores\u001b[0m\u001b[1;33m\u001b[0m\u001b[1;33m\u001b[0m\u001b[0m\n",
      "\u001b[1;32m~\\anaconda3\\lib\\site-packages\\sklearn\\base.py\u001b[0m in \u001b[0;36m_validate_data\u001b[1;34m(self, X, y, reset, validate_separately, **check_params)\u001b[0m\n\u001b[0;32m    598\u001b[0m \u001b[1;33m\u001b[0m\u001b[0m\n\u001b[0;32m    599\u001b[0m         \u001b[1;32mif\u001b[0m \u001b[1;32mnot\u001b[0m \u001b[0mno_val_X\u001b[0m \u001b[1;32mand\u001b[0m \u001b[0mcheck_params\u001b[0m\u001b[1;33m.\u001b[0m\u001b[0mget\u001b[0m\u001b[1;33m(\u001b[0m\u001b[1;34m\"ensure_2d\"\u001b[0m\u001b[1;33m,\u001b[0m \u001b[1;32mTrue\u001b[0m\u001b[1;33m)\u001b[0m\u001b[1;33m:\u001b[0m\u001b[1;33m\u001b[0m\u001b[1;33m\u001b[0m\u001b[0m\n\u001b[1;32m--> 600\u001b[1;33m             \u001b[0mself\u001b[0m\u001b[1;33m.\u001b[0m\u001b[0m_check_n_features\u001b[0m\u001b[1;33m(\u001b[0m\u001b[0mX\u001b[0m\u001b[1;33m,\u001b[0m \u001b[0mreset\u001b[0m\u001b[1;33m=\u001b[0m\u001b[0mreset\u001b[0m\u001b[1;33m)\u001b[0m\u001b[1;33m\u001b[0m\u001b[1;33m\u001b[0m\u001b[0m\n\u001b[0m\u001b[0;32m    601\u001b[0m \u001b[1;33m\u001b[0m\u001b[0m\n\u001b[0;32m    602\u001b[0m         \u001b[1;32mreturn\u001b[0m \u001b[0mout\u001b[0m\u001b[1;33m\u001b[0m\u001b[1;33m\u001b[0m\u001b[0m\n",
      "\u001b[1;32m~\\anaconda3\\lib\\site-packages\\sklearn\\base.py\u001b[0m in \u001b[0;36m_check_n_features\u001b[1;34m(self, X, reset)\u001b[0m\n\u001b[0;32m    398\u001b[0m \u001b[1;33m\u001b[0m\u001b[0m\n\u001b[0;32m    399\u001b[0m         \u001b[1;32mif\u001b[0m \u001b[0mn_features\u001b[0m \u001b[1;33m!=\u001b[0m \u001b[0mself\u001b[0m\u001b[1;33m.\u001b[0m\u001b[0mn_features_in_\u001b[0m\u001b[1;33m:\u001b[0m\u001b[1;33m\u001b[0m\u001b[1;33m\u001b[0m\u001b[0m\n\u001b[1;32m--> 400\u001b[1;33m             raise ValueError(\n\u001b[0m\u001b[0;32m    401\u001b[0m                 \u001b[1;34mf\"X has {n_features} features, but {self.__class__.__name__} \"\u001b[0m\u001b[1;33m\u001b[0m\u001b[1;33m\u001b[0m\u001b[0m\n\u001b[0;32m    402\u001b[0m                 \u001b[1;34mf\"is expecting {self.n_features_in_} features as input.\"\u001b[0m\u001b[1;33m\u001b[0m\u001b[1;33m\u001b[0m\u001b[0m\n",
      "\u001b[1;31mValueError\u001b[0m: X has 28576 features, but LogisticRegression is expecting 20 features as input."
     ]
    }
   ],
   "source": [
    "submission = pd.DataFrame({'id':test_df['id'],'label':LogiRE.predict(X_train)})\n",
    "submission.to_csv(\"sample_upload.csv\",index=False)"
   ]
  },
  {
   "cell_type": "code",
   "execution_count": null,
   "id": "5b28cf03",
   "metadata": {},
   "outputs": [],
   "source": []
  }
 ],
 "metadata": {
  "kernelspec": {
   "display_name": "Python 3 (ipykernel)",
   "language": "python",
   "name": "python3"
  },
  "language_info": {
   "codemirror_mode": {
    "name": "ipython",
    "version": 3
   },
   "file_extension": ".py",
   "mimetype": "text/x-python",
   "name": "python",
   "nbconvert_exporter": "python",
   "pygments_lexer": "ipython3",
   "version": "3.9.13"
  }
 },
 "nbformat": 4,
 "nbformat_minor": 5
}
