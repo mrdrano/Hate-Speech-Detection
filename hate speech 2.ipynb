{
 "cells": [
  {
   "cell_type": "code",
   "execution_count": 28,
   "metadata": {
    "_cell_guid": "79c7e3d0-c299-4dcb-8224-4455121ee9b0",
    "_uuid": "d629ff2d2480ee46fbb7e2d37f6b5fab8052498a",
    "collapsed": true,
    "jupyter": {
     "outputs_hidden": true
    }
   },
   "outputs": [],
   "source": [
    "import numpy as np \n",
    "import pandas as pd \n",
    "import os\n",
    "train = pd.read_csv(r\"C:\\Users\\90607\\OneDrive\\桌面\\train.csv\")\n",
    "test = pd.read_csv(r\"C:\\Users\\90607\\OneDrive\\桌面\\test.csv\")"
   ]
  },
  {
   "cell_type": "code",
   "execution_count": 29,
   "metadata": {
    "_uuid": "59b3c25626715e503793772bec2d711a7a19afa7"
   },
   "outputs": [
    {
     "name": "stdout",
     "output_type": "stream",
     "text": [
      "   class                                              tweet\n",
      "0      1  [9-1-13] 2:50 pm \"son of a bitch ate my mac n ...\n",
      "1      1  RT @BryceSerna: Don't be a pussy grab the boot...\n",
      "2      2  RT @ClicquotSuave: bunch of rappers boutta flo...\n",
      "3      2  @michigannews13 wow. Thats great language comi...\n",
      "4      1  and this is why I'm single, I don't fuck with ...\n",
      "   id                                              tweet\n",
      "0   0  !!!!!!! RT @UrKindOfBrand Dawg!!!! RT @80sbaby...\n",
      "1   1  !!!!!!!!! RT @C_G_Anderson: @viva_based she lo...\n",
      "2   2  !!!!!!\"@__BrighterDays: I can not just sit up ...\n",
      "3   3  !!!!&#8220;@selfiequeenbri: cause I'm tired of...\n",
      "4   4  \" @rhythmixx_ :hobbies include: fighting Maria...\n"
     ]
    }
   ],
   "source": [
    "print(train.head())\n",
    "print(test.head())"
   ]
  },
  {
   "cell_type": "code",
   "execution_count": 22,
   "metadata": {
    "_uuid": "ff7cd1fdf41e1c4f62df21441bfc3b9d264a53e6",
    "collapsed": true,
    "jupyter": {
     "outputs_hidden": true
    }
   },
   "outputs": [],
   "source": [
    "train['class'] = train['class'].astype('category')"
   ]
  },
  {
   "cell_type": "code",
   "execution_count": 23,
   "metadata": {
    "_uuid": "039b401f7ed174a97350db63b9f0369ba0ed3018",
    "collapsed": true,
    "jupyter": {
     "outputs_hidden": true
    }
   },
   "outputs": [],
   "source": [
    "from nltk.stem import WordNetLemmatizer\n",
    "from nltk import tokenize\n",
    "from sklearn.feature_extraction.text import TfidfVectorizer\n",
    "import re"
   ]
  },
  {
   "cell_type": "code",
   "execution_count": 24,
   "metadata": {
    "_uuid": "fda3966e505d861ce7fffd3c248406636154f32b",
    "collapsed": true,
    "jupyter": {
     "outputs_hidden": true
    }
   },
   "outputs": [],
   "source": [
    "train['tweet'] = [''.join([WordNetLemmatizer().lemmatize(re.sub('[^A-Za-z]',' ',text)) for text in lis]) for lis in train['tweet']]\n",
    "test['tweet'] = [''.join([WordNetLemmatizer().lemmatize(re.sub('[^A-Za-z]',' ',text)) for text in lis]) for lis in test['tweet']]"
   ]
  },
  {
   "cell_type": "code",
   "execution_count": 7,
   "metadata": {
    "_uuid": "6384f5a8c8f710094964a6be2a7b815cb4db9ea0",
    "collapsed": true,
    "jupyter": {
     "outputs_hidden": true
    }
   },
   "outputs": [],
   "source": [
    "from sklearn.model_selection import train_test_split\n",
    "X_train,X_test,y_train,y_test = train_test_split(train['tweet'],train['class'])"
   ]
  },
  {
   "cell_type": "code",
   "execution_count": 8,
   "metadata": {
    "_uuid": "45e6f8ebf8ebd261197ad0e8e6d5f41faa585392",
    "collapsed": true,
    "jupyter": {
     "outputs_hidden": true
    }
   },
   "outputs": [],
   "source": [
    "vect = TfidfVectorizer(ngram_range = (1,4)).fit(X_train)\n",
    "vect_transformed_X_train = vect.transform(X_train)\n",
    "vect_transformed_X_test = vect.transform(X_test)"
   ]
  },
  {
   "cell_type": "code",
   "execution_count": 10,
   "metadata": {
    "_uuid": "c4a09d4548873ab3e0a547c32ae918a07cf70208",
    "collapsed": true,
    "jupyter": {
     "outputs_hidden": true
    }
   },
   "outputs": [],
   "source": [
    "from sklearn.svm import SVC\n",
    "from sklearn.linear_model import LogisticRegression\n",
    "from sklearn.naive_bayes import MultinomialNB\n",
    "from sklearn.ensemble import RandomForestClassifier\n",
    "from sklearn.linear_model import SGDClassifier\n",
    "from sklearn.metrics import f1_score"
   ]
  },
  {
   "cell_type": "code",
   "execution_count": 11,
   "metadata": {
    "_uuid": "07e44f0102a2274658589214783917f84d5a058a",
    "collapsed": true,
    "jupyter": {
     "outputs_hidden": true
    }
   },
   "outputs": [
    {
     "data": {
      "text/plain": [
       "(3232, 3718, 0.8679397525551372)"
      ]
     },
     "execution_count": 11,
     "metadata": {},
     "output_type": "execute_result"
    }
   ],
   "source": [
    "modelSVC = SVC(C=100).fit(vect_transformed_X_train,y_train)\n",
    "predictionsSVC = modelSVC.predict(vect_transformed_X_test)\n",
    "sum(predictionsSVC==1),len(y_test),f1_score(y_test,predictionsSVC,average='micro')"
   ]
  },
  {
   "cell_type": "code",
   "execution_count": 18,
   "metadata": {
    "_uuid": "45d16c0e25d4c4f1816528eb4a5fb13a63fc80d0",
    "collapsed": true,
    "jupyter": {
     "outputs_hidden": true
    }
   },
   "outputs": [
    {
     "name": "stderr",
     "output_type": "stream",
     "text": [
      "c:\\Users\\90607\\AppData\\Local\\Programs\\Python\\Python310\\lib\\site-packages\\sklearn\\linear_model\\_logistic.py:814: ConvergenceWarning: lbfgs failed to converge (status=1):\n",
      "STOP: TOTAL NO. of ITERATIONS REACHED LIMIT.\n",
      "\n",
      "Increase the number of iterations (max_iter) or scale the data as shown in:\n",
      "    https://scikit-learn.org/stable/modules/preprocessing.html\n",
      "Please also refer to the documentation for alternative solver options:\n",
      "    https://scikit-learn.org/stable/modules/linear_model.html#logistic-regression\n",
      "  n_iter_i = _check_optimize_result(\n"
     ]
    },
    {
     "data": {
      "text/plain": [
       "(3062, 3718, 0.891877353415815)"
      ]
     },
     "execution_count": 18,
     "metadata": {},
     "output_type": "execute_result"
    }
   ],
   "source": [
    "modelLR = LogisticRegression(C=100).fit(vect_transformed_X_train,y_train)\n",
    "predictionsLR = modelLR.predict(vect_transformed_X_test)\n",
    "sum(predictionsLR==1),len(y_test),f1_score(y_test,predictionsLR,average='micro')"
   ]
  },
  {
   "cell_type": "code",
   "execution_count": 13,
   "metadata": {
    "_uuid": "5887cf072ddc422a3efa60fcbed2a0d10c7b6df2",
    "collapsed": true,
    "jupyter": {
     "outputs_hidden": true
    }
   },
   "outputs": [
    {
     "data": {
      "text/plain": [
       "(3715, 3718, 0.7711135018827325)"
      ]
     },
     "execution_count": 13,
     "metadata": {},
     "output_type": "execute_result"
    }
   ],
   "source": [
    "modelNB = MultinomialNB(alpha=1.7).fit(vect_transformed_X_train,y_train)\n",
    "predictionsNB = modelNB.predict(vect_transformed_X_test)\n",
    "sum(predictionsNB==1),len(y_test),f1_score(y_test,predictionsNB,average='micro')"
   ]
  },
  {
   "cell_type": "code",
   "execution_count": 14,
   "metadata": {
    "_uuid": "9ba8fba5d08609021ab537429cbedf973125d4ba",
    "collapsed": true,
    "jupyter": {
     "outputs_hidden": true
    }
   },
   "outputs": [
    {
     "data": {
      "text/plain": [
       "(3453, 3718, 0.8224852071005917)"
      ]
     },
     "execution_count": 14,
     "metadata": {},
     "output_type": "execute_result"
    }
   ],
   "source": [
    "modelRF = RandomForestClassifier(n_estimators=20).fit(vect_transformed_X_train,y_train)\n",
    "predictionsRF = modelRF.predict(vect_transformed_X_test)\n",
    "sum(predictionsRF==1),len(y_test),f1_score(y_test,predictionsRF,average='micro')"
   ]
  },
  {
   "cell_type": "code",
   "execution_count": 15,
   "metadata": {
    "_uuid": "7efe6dbcc2844252f5aa0078a90cec2861458ca9"
   },
   "outputs": [
    {
     "data": {
      "text/plain": [
       "(3716, 3718, 0.7708445400753093)"
      ]
     },
     "execution_count": 15,
     "metadata": {},
     "output_type": "execute_result"
    }
   ],
   "source": [
    "modelSGD = SGDClassifier(loss='hinge', penalty='l2',alpha=1e-3).fit(vect_transformed_X_train,y_train)\n",
    "predictionsSGD = modelSGD.predict(vect_transformed_X_test)\n",
    "sum(predictionsSGD==1),len(y_test),f1_score(y_test,predictionsSGD,average='micro')"
   ]
  },
  {
   "cell_type": "markdown",
   "metadata": {
    "_uuid": "f22a66641181ba5e4a3610ca5d4b2851d10b66cd"
   },
   "source": [
    "Based on all the above models trained we conclude that the logistic regression(C=100) is the better model amoung them, ergo, we use this model as our final model."
   ]
  },
  {
   "cell_type": "code",
   "execution_count": 16,
   "metadata": {
    "_uuid": "e95c2eb2041de1d05ef5227a23392832a8cee246",
    "collapsed": true,
    "jupyter": {
     "outputs_hidden": true
    }
   },
   "outputs": [
    {
     "name": "stderr",
     "output_type": "stream",
     "text": [
      "c:\\Users\\90607\\AppData\\Local\\Programs\\Python\\Python310\\lib\\site-packages\\sklearn\\linear_model\\_logistic.py:814: ConvergenceWarning: lbfgs failed to converge (status=1):\n",
      "STOP: TOTAL NO. of ITERATIONS REACHED LIMIT.\n",
      "\n",
      "Increase the number of iterations (max_iter) or scale the data as shown in:\n",
      "    https://scikit-learn.org/stable/modules/preprocessing.html\n",
      "Please also refer to the documentation for alternative solver options:\n",
      "    https://scikit-learn.org/stable/modules/linear_model.html#logistic-regression\n",
      "  n_iter_i = _check_optimize_result(\n"
     ]
    }
   ],
   "source": [
    "vect = TfidfVectorizer(ngram_range = (1,4)).fit(train['tweet'])\n",
    "vect_transformed_train = vect.transform(train['tweet'])\n",
    "vect_transformed_test = vect.transform(test['tweet'])\n",
    "FinalModel = LogisticRegression(C=100).fit(vect_transformed_train,train['class'])"
   ]
  },
  {
   "cell_type": "code",
   "execution_count": 17,
   "metadata": {
    "_uuid": "ce12cd3a9a5d86f7591bf4584c92f735bc8f1731",
    "collapsed": true,
    "jupyter": {
     "outputs_hidden": true
    }
   },
   "outputs": [],
   "source": [
    "predictions = FinalModel.predict(vect_transformed_test)\n",
    "submission = pd.DataFrame({'id':test['id'],'label':predictions})\n",
    "submission.to_csv(r\"C:\\Users\\90607\\OneDrive\\桌面\\sample_upload.csv\",index=False)"
   ]
  }
 ],
 "metadata": {
  "kernelspec": {
   "display_name": "Python 3 (ipykernel)",
   "language": "python",
   "name": "python3"
  },
  "language_info": {
   "codemirror_mode": {
    "name": "ipython",
    "version": 3
   },
   "file_extension": ".py",
   "mimetype": "text/x-python",
   "name": "python",
   "nbconvert_exporter": "python",
   "pygments_lexer": "ipython3",
   "version": "3.9.13"
  },
  "vscode": {
   "interpreter": {
    "hash": "13206408fec1e122dbc7089b720ee3f41dafcaa510f2ad3ae570b882f1c813f1"
   }
  }
 },
 "nbformat": 4,
 "nbformat_minor": 4
}
